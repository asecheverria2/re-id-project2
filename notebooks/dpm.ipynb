{
 "cells": [
  {
   "cell_type": "code",
   "execution_count": null,
   "metadata": {
    "collapsed": true,
    "pycharm": {
     "name": "#%%\n",
     "is_executing": true
    }
   },
   "outputs": [
    {
     "name": "stdout",
     "output_type": "stream",
     "text": [
      "Working on: ../Datasets/espe/masked/test\\0 route\n",
      "Processing person_0_1 instance ...\n",
      "Opening ../Datasets/espe/masked/test\\0\\person_0_1.jpg file\n"
     ]
    },
    {
     "name": "stderr",
     "output_type": "stream",
     "text": [
      "Error evaluating: thread_id: pid_5408_id_2955150204808\n",
      "frame_id: 2955642292232\n",
      "scope: FRAME\n",
      "attrs: h_crop\n",
      "Traceback (most recent call last):\n",
      "  File \"D:\\Program Files\\JetBrains\\PyCharm 2022.2.1\\plugins\\python\\helpers\\pydev\\_pydevd_bundle\\pydevd_vars.py\", line 314, in resolve_compound_variable_fields\n",
      "    return _typeName, _resolve_default_variable_fields(var, resolver, offset)\n",
      "  File \"D:\\Program Files\\JetBrains\\PyCharm 2022.2.1\\plugins\\python\\helpers\\pydev\\_pydevd_bundle\\pydevd_vars.py\", line 264, in _resolve_default_variable_fields\n",
      "    return resolver.get_dictionary(VariableWithOffset(var, offset) if offset else var)\n",
      "  File \"D:\\Program Files\\JetBrains\\PyCharm 2022.2.1\\plugins\\python\\helpers\\pydev\\pydevd_plugins\\extensions\\types\\pydevd_plugin_numpy_types.py\", line 93, in get_dictionary\n",
      "    ret['min'] = obj.min()\n",
      "  File \"C:\\Users\\usuario\\AppData\\Local\\Programs\\Python\\Python37\\lib\\site-packages\\numpy\\core\\_methods.py\", line 44, in _amin\n",
      "    return umr_minimum(a, axis, None, out, keepdims, initial, where)\n",
      "ValueError: zero-size array to reduction operation minimum which has no identity\n"
     ]
    }
   ],
   "source": [
    "parent_root = '../Datasets/espe/masked/test'\n",
    "target_root = '../Processed-dataset/Test'\n",
    "\n",
    "from processing import generate_dpm_dataset\n",
    "\n",
    "generate_dpm_dataset(parent_root, target_root)"
   ]
  },
  {
   "cell_type": "code",
   "execution_count": null,
   "outputs": [],
   "source": [],
   "metadata": {
    "collapsed": false,
    "pycharm": {
     "name": "#%%\n"
    }
   }
  }
 ],
 "metadata": {
  "kernelspec": {
   "display_name": "Python 3",
   "language": "python",
   "name": "python3"
  },
  "language_info": {
   "codemirror_mode": {
    "name": "ipython",
    "version": 2
   },
   "file_extension": ".py",
   "mimetype": "text/x-python",
   "name": "python",
   "nbconvert_exporter": "python",
   "pygments_lexer": "ipython2",
   "version": "2.7.6"
  }
 },
 "nbformat": 4,
 "nbformat_minor": 0
}